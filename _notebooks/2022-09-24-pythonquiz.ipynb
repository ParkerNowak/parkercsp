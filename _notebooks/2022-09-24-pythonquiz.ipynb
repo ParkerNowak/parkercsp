{
 "cells": [
  {
   "cell_type": "markdown",
   "metadata": {},
   "source": [
    "Hi hello this is my first python program"
   ]
  },
  {
   "cell_type": "code",
   "execution_count": 1,
   "metadata": {},
   "outputs": [
    {
     "name": "stdout",
     "output_type": "stream",
     "text": [
      "Please wait while the program is loading...\n"
     ]
    }
   ],
   "source": [
    "print('Please wait while the program is loading...')"
   ]
  }
 ],
 "metadata": {
  "kernelspec": {
   "display_name": "Python 3.10.7 64-bit",
   "language": "python",
   "name": "python3"
  },
  "language_info": {
   "codemirror_mode": {
    "name": "ipython",
    "version": 3
   },
   "file_extension": ".py",
   "mimetype": "text/x-python",
   "name": "python",
   "nbconvert_exporter": "python",
   "pygments_lexer": "ipython3",
   "version": "3.10.7"
  },
  "orig_nbformat": 4,
  "vscode": {
   "interpreter": {
    "hash": "51305af0163d2e2cb49fba114a1090c9b71da931dba688d91d755048735e66eb"
   }
  }
 },
 "nbformat": 4,
 "nbformat_minor": 2
}
